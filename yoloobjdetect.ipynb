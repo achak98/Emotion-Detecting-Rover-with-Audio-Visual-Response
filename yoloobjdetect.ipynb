{
  "nbformat": 4,
  "nbformat_minor": 2,
  "metadata": {
    "colab": {
      "name": "YoloCarDetection",
      "provenance": [],
      "collapsed_sections": [],
      "authorship_tag": "ABX9TyOoKsoF8Ivbll3Dvdb1VPFR",
      "include_colab_link": true
    },
    "kernelspec": {
      "name": "python3",
      "display_name": "Python 3"
    }
  },
  "cells": [
    {
      "cell_type": "code",
      "execution_count": null,
      "source": [
        "import tensorflow as tf \n",
        "import numpy as np\n",
        "from keras import backend as K\n",
        "from keras.models import load_model, Model\n",
        "from PIL import Image, ImageDraw, ImageFont\n",
        "import scipy.io\n",
        "from matplotlib.pyplot import imshow\n",
        "import os\n",
        "import colorsys\n",
        "import random\n",
        "import imageio"
      ],
      "outputs": [],
      "metadata": {
        "id": "xf29vv-8Wpmo",
        "colab_type": "code",
        "colab": {}
      }
    },
    {
      "cell_type": "code",
      "execution_count": null,
      "source": [
        "def filter_boxes(box_conf, boxes, box_class_probs, threshold):\n",
        "  \n",
        "  box_scores = box_conf*box_class_probs \n",
        "  box_class = K.argmax(box_scores, axis = -1) \n",
        "  box_class_score = K.max(box_scores, axis = -1) \n",
        "  \n",
        "  mask = (box_class_score >= threshold) \n",
        "  print(mask)\n",
        "  scores = tf.boolean_mask(box_class_score, mask, axis = None, name='scores') \n",
        "  boxes = tf.boolean_mask(boxes, mask, axis=None, name='boxes') \n",
        "  classes = tf.boolean_mask(box_class, mask, axis= None, name='classes') \n",
        "\n",
        "  return scores, boxes, classes"
      ],
      "outputs": [],
      "metadata": {
        "id": "z-j-uBrIW3r9",
        "colab_type": "code",
        "colab": {}
      }
    },
    {
      "cell_type": "code",
      "execution_count": null,
      "source": [
        "def non_max_suppression(boxes,scores,classes,max_boxes = 10, iou_threshold = 0.5):\n",
        "  max_boxes_tensor = K.variable(max_boxes, dtype='int32')\n",
        "  K.get_session().run(tf.variables_initializer([max_boxes_tensor]))\n",
        "\n",
        "  nms_indices = tf.image.non_max_suppression(boxes,scores,max_boxes,iou_threshold,name='nms_indices')\n",
        "\n",
        "  scores = K.gather(scores, nms_indices)\n",
        "  boxes = K.gather(boxes, nms_indices)\n",
        "  classes = K.gather(classes,nms_indices)\n",
        "\n",
        "  return scores, boxes, classes"
      ],
      "outputs": [],
      "metadata": {
        "id": "W6LUSiIhdLE3",
        "colab_type": "code",
        "colab": {}
      }
    },
    {
      "cell_type": "code",
      "execution_count": null,
      "source": [
        "def boxes_to_corners(box_xy,box_wh):\n",
        "    box_mins = box_xy - (box_wh / 2.)\n",
        "    box_maxes = box_xy + (box_wh / 2.)\n",
        "\n",
        "    return K.concatenate([\n",
        "        box_mins[..., 1:2],  # y_min\n",
        "        box_mins[..., 0:1],  # x_min\n",
        "        box_maxes[..., 1:2],  # y_max\n",
        "        box_maxes[..., 0:1]  # x_max\n",
        "    ])\n"
      ],
      "outputs": [],
      "metadata": {
        "id": "wl8cnx6BjRYx",
        "colab_type": "code",
        "colab": {}
      }
    },
    {
      "cell_type": "code",
      "execution_count": null,
      "source": [
        "def scale_boxes(boxes,img_shape):\n",
        "    height = img_shape[0]\n",
        "    width = img_shape[1]\n",
        "    img_dims = K.stack([height,width,height,width])\n",
        "    img_dims = K.reshape(img_dims, [1,4])\n",
        "\n",
        "    return boxes*img_dims"
      ],
      "outputs": [],
      "metadata": {
        "id": "e-dOgwip2A2M",
        "colab_type": "code",
        "colab": {}
      }
    },
    {
      "cell_type": "code",
      "execution_count": null,
      "source": [
        "def yolo_inference(yolo_outputs, img_shape = (720., 1280.), max_boxes=10, score_threshold=.6, iou_threshold=.5):\n",
        "\n",
        "    box_conf, box_xy, box_wh, box_class_probs = yolo_outputs\n",
        "    boxes = boxes_to_corners(box_xy, box_wh)\n",
        "    scores, boxes, classes = filter_boxes(box_conf, boxes, box_class_probs, score_threshold)\n",
        "    boxes = scale_boxes(boxes, img_shape)\n",
        "    scores, boxes, classes = non_max_suppression(boxes,scores,classes,max_boxes = 10, iou_threshold = 0.5)\n",
        "\n",
        "    return scores, boxes, classes"
      ],
      "outputs": [],
      "metadata": {
        "id": "8wo98wqi2Iny",
        "colab_type": "code",
        "colab": {}
      }
    },
    {
      "cell_type": "code",
      "execution_count": null,
      "source": [
        "def read_anchors(path):\n",
        "    with open(path) as f:\n",
        "        anchors = f.readline()\n",
        "        anchors = [float(x) for x in anchors.split(\",\")]\n",
        "        anchors = np.array(anchors).reshape(-1,2)\n",
        "    return anchors\n",
        "\n",
        "def read_classes(path):\n",
        "    with open(path) as f:\n",
        "        classes = f.readlines()\n",
        "    classes = [c.strip() for c in classes]\n",
        "    return classes"
      ],
      "outputs": [],
      "metadata": {
        "id": "7kLBfBpVA5GI",
        "colab_type": "code",
        "colab": {}
      }
    },
    {
      "cell_type": "code",
      "execution_count": null,
      "source": [
        "def preprocess_img(path, model_img_size):\n",
        "    img = Image.open(path)\n",
        "    resized_img = img.resize(tuple(reversed(model_img_size)), Image.BICUBIC)\n",
        "    img_data = np.array(resized_img, dtype='float32')\n",
        "    img_data /= 255.\n",
        "    imag_data = np.expand_dims(img_data,0)\n",
        "    return img, img_data"
      ],
      "outputs": [],
      "metadata": {
        "id": "dpyAZu9u7hIi",
        "colab_type": "code",
        "colab": {}
      }
    },
    {
      "cell_type": "code",
      "execution_count": null,
      "source": [
        "def draw_boxes(img, out_scores, out_boxes, out_classes, class_names, colours):\n",
        "    font = ImageFont.truetype(font='font.otf', size=np.floor(3e-2*img.size[1]+0.5).astype('int32'))\n",
        "    thickness = (img.size[0] + img.size[1])//300\n",
        "\n",
        "    for i,c in reversed(list(enumerate(out_classes))):\n",
        "        predicted_class = class_names[c]\n",
        "        box = out_boxes[i]\n",
        "        score = out_scores[i]\n",
        "\n",
        "        label ='{} {:.2f}'.format(predicted_class,score)\n",
        "\n",
        "        draw = ImageDraw.Draw(img)\n",
        "        label_size = draw.textsize(label, font)\n",
        "\n",
        "        top, left, bottom, right = box\n",
        "        top = max(0, np.floor(top + 0.5).astype('int32'))\n",
        "        left = max(0, np.floor(left + 0.5).astype('int32'))\n",
        "        bottom = min(img.size[1], np.floor(bottom + 0.5).astype('int32'))\n",
        "        right = min(img.size[0], np.floor(right + 0.5).astype('int32'))\n",
        "        print(label, (left, top), (right, bottom))\n",
        "\n",
        "        if top - label_size[1] >= 0:\n",
        "            text_origin = np.array([left, top - label_size[1]])\n",
        "        else:\n",
        "            text_origin = np.array([left, top + 1])\n",
        "\n",
        "        for i in range(thickness):\n",
        "            draw.rectangle([left + i, top + i, right - i, bottom - i], outline=colours[c])\n",
        "        draw.rectangle([tuple(text_origin), tuple(text_origin + label_size)], fill=colours[c])\n",
        "        draw.text(text_origin, label, fill=(0, 0, 0), font=font)\n",
        "        del draw\n",
        "        \n",
        "def gen_colours(class_names):\n",
        "    hsv_tuples = [(x / len(class_names), 1., 1.) for x in range(len(class_names))]\n",
        "    colours = list(map(lambda x: colorsys.hsv_to_rgb(*x), hsv_tuples))\n",
        "    colours = list(map(lambda x: (int(x[0] * 255), int(x[1] * 255), int(x[2] * 255)), colours))\n",
        "    random.seed(10101)  \n",
        "    random.shuffle(colours)  \n",
        "    random.seed(None)  \n",
        "    return colours"
      ],
      "outputs": [],
      "metadata": {
        "id": "gdpy6EIllyQa",
        "colab_type": "code",
        "colab": {}
      }
    },
    {
      "cell_type": "code",
      "execution_count": null,
      "source": [
        "def yolo_opgen(feats, anchors, num_classes):\n",
        "\n",
        "    num_anchors = len(anchors)\n",
        "    anchors_tensor = K.reshape(K.variable(anchors), [1, 1, 1, num_anchors, 2])\n",
        "\n",
        "    conv_dims = K.shape(feats)[1:3] \n",
        "    conv_height_index = K.arange(0, stop=conv_dims[0])\n",
        "    conv_width_index = K.arange(0, stop=conv_dims[1])\n",
        "    conv_height_index = K.tile(conv_height_index, [conv_dims[1]])\n",
        "\n",
        "    conv_width_index = K.tile(K.expand_dims(conv_width_index, 0), [conv_dims[0], 1])\n",
        "    conv_width_index = K.flatten(K.transpose(conv_width_index))\n",
        "    conv_index = K.transpose(K.stack([conv_height_index, conv_width_index]))\n",
        "    conv_index = K.reshape(conv_index, [1, conv_dims[0], conv_dims[1], 1, 2])\n",
        "    conv_index = K.cast(conv_index, K.dtype(feats))\n",
        "    \n",
        "    feats = K.reshape(feats, [-1, conv_dims[0], conv_dims[1], num_anchors, num_classes + 5])\n",
        "    conv_dims = K.cast(K.reshape(conv_dims, [1, 1, 1, 1, 2]), K.dtype(feats))\n",
        "\n",
        "    box_conf = K.sigmoid(feats[..., 4:5])\n",
        "    box_xy = K.sigmoid(feats[..., :2])\n",
        "    box_wh = K.exp(feats[..., 2:4])\n",
        "    box_class_probs = K.softmax(feats[..., 5:])\n",
        "\n",
        "    box_xy = (box_xy + conv_index) / conv_dims\n",
        "    box_wh = box_wh * anchors_tensor / conv_dims\n",
        "\n",
        "    return box_conf, box_xy, box_wh, box_class_probs"
      ],
      "outputs": [],
      "metadata": {
        "id": "x89vL9CxG1-l",
        "colab_type": "code",
        "colab": {}
      }
    },
    {
      "cell_type": "code",
      "execution_count": null,
      "source": [
        "anchors = read_anchors(\"anchors.txt\")\n",
        "class_names = read_classes(\"classes80.txt\")\n",
        "yolo_model = load_model(\"yolo.h5\")\n",
        "img_size = (720.,1080.)\n",
        "yolo_model.summary()"
      ],
      "outputs": [],
      "metadata": {
        "id": "x1Raer7lA-48",
        "colab_type": "code",
        "colab": {}
      }
    },
    {
      "cell_type": "code",
      "execution_count": null,
      "source": [
        "sesh = K.get_session()\n",
        "yolo_outputs = yolo_opgen(yolo_model.output, anchors, len(class_names))\n",
        "scores, boxes, classes = yolo_inference(yolo_outputs)"
      ],
      "outputs": [],
      "metadata": {
        "id": "ZEtcrzOCIynA",
        "colab_type": "code",
        "colab": {}
      }
    },
    {
      "cell_type": "code",
      "execution_count": null,
      "source": [
        "def predict(sesh, img_file):\n",
        "    img, img_data = preprocess_img(\"images/\" + img_file, model_img_size = (608,608))\n",
        "    out_scores, out_boxes, out_classes = sesh.run(fetches = [scores,boxes,classes], feed_dict={yolo_model.input: img_data, K.learning_phase() : 0})\n",
        "    print('Found {} boxes for {}'.format(len(out_boxes), img_file))\n",
        "    colours = gen_colours(class_names)\n",
        "    draw_boxes(img, out_scores, out_boxes, out_classes, class_names, colours)\n",
        "    img.save(os.path.join(\"out/\", img_file), quality=90)\n",
        "    output_img = imageio.imread(os.path.join(\"out/\", img_file))\n",
        "    imshow(output_img)\n",
        "    return out_scores, out_boxes, out_classes"
      ],
      "outputs": [],
      "metadata": {
        "id": "Vbx3SzkzBtbf",
        "colab_type": "code",
        "colab": {}
      }
    },
    {
      "cell_type": "code",
      "execution_count": null,
      "source": [
        "out_scores, out_boxes, out_classes = predict(sesh, \"test.jpeg\")"
      ],
      "outputs": [],
      "metadata": {
        "id": "oV1jAlUrB6VQ",
        "colab_type": "code",
        "colab": {}
      }
    }
  ]
}